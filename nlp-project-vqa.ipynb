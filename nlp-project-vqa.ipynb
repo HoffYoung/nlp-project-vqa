{
 "cells": [
  {
   "cell_type": "markdown",
   "metadata": {},
   "source": [
    "# nlp-project-vqa\n"
   ]
  },
  {
   "cell_type": "code",
   "execution_count": null,
   "metadata": {},
   "outputs": [],
   "source": [
    "import mindspore\n",
    "from mindspore.mindrecord import FileWriter\n",
    "import mindspore.dataset as dataset\n",
    "import numpy as np\n",
    "from easydict import EasyDict\n",
    "from preprocess.preprocess import *"
   ]
  },
  {
   "cell_type": "markdown",
   "metadata": {},
   "source": [
    "## 1 预处理"
   ]
  },
  {
   "cell_type": "markdown",
   "metadata": {},
   "source": [
    "### 1.1 预处理配置"
   ]
  },
  {
   "cell_type": "code",
   "execution_count": 2,
   "metadata": {},
   "outputs": [],
   "source": [
    "padding = '<pad>'\n",
    "config = EasyDict({\n",
    "\t'train_ans_path': './data/annotations/train.json',\n",
    "\t'train_que_path': './data/questions/train.json',\n",
    "\t'valid_ans_path': './data/annotations/val.json',\n",
    "\t'valid_que_path': './data/questions/val.json',\n",
    "\t'test_ans_path':  './data/annotations/test.json',\n",
    "\t'test_que_path':  './data/questions/test.json',\n",
    "\t'max_length': 25,\n",
    "\t'dict_path': './mindrecord/dict.npy',\n",
    "\t'idx_word_dict_path': './mindrecord/idx_word_dict.npy',\n",
    "\t'num_splits': 1,\n",
    "\t'train_mindrecord_path': './mindrecord/train.mindrecord',\n",
    "\t'valid_mindrecord_path': './mindrecord/valid.mindrecord',\n",
    "\t'test_mindrecord_path':  './mindrecord/test.mindrecord',\n",
    "})"
   ]
  },
  {
   "cell_type": "markdown",
   "metadata": {},
   "source": [
    "### 1.2 读取数据"
   ]
  },
  {
   "cell_type": "markdown",
   "metadata": {},
   "source": [
    "注: 只取那些答案长度为1的vqa组合"
   ]
  },
  {
   "cell_type": "code",
   "execution_count": 5,
   "metadata": {},
   "outputs": [],
   "source": [
    "# get 3 types of input data\n",
    "train_images, train_questions, train_answers = get_list(config.train_que_path, config.train_ans_path)\n",
    "valid_images, valid_questions, valid_answers = get_list(config.valid_que_path, config.valid_ans_path)\n",
    "test_images,  test_questions,  test_answers  = get_list(config.test_que_path,  config.test_ans_path)"
   ]
  },
  {
   "cell_type": "code",
   "execution_count": 6,
   "metadata": {},
   "outputs": [],
   "source": [
    "total_questions = train_questions + valid_questions + test_questions\n",
    "total_answers = train_answers + valid_answers + test_answers"
   ]
  },
  {
   "cell_type": "markdown",
   "metadata": {},
   "source": [
    "### 1.3 构建词典"
   ]
  },
  {
   "cell_type": "code",
   "execution_count": 7,
   "metadata": {},
   "outputs": [],
   "source": [
    "# build word vocab\n",
    "word_dict = dict({'<pad>': 0})\n",
    "word_dict = add_word_into_dict(total_questions, word_dict)\n",
    "word_dict = add_word_into_dict(total_answers, word_dict)"
   ]
  },
  {
   "cell_type": "code",
   "execution_count": 8,
   "metadata": {},
   "outputs": [],
   "source": [
    "# build revert dict\n",
    "idx_word_dict = dict()\n",
    "for item in word_dict.items():\n",
    "\tidx_word_dict[item[1]] = item[0]"
   ]
  },
  {
   "cell_type": "code",
   "execution_count": 9,
   "metadata": {},
   "outputs": [],
   "source": [
    "# save dict\n",
    "np.save(config.dict_path, word_dict)\n",
    "np.save(config.idx_word_dict_path, idx_word_dict)"
   ]
  },
  {
   "cell_type": "markdown",
   "metadata": {},
   "source": [
    "### 1.4 向量化 & 补齐长度"
   ]
  },
  {
   "cell_type": "code",
   "execution_count": 12,
   "metadata": {},
   "outputs": [],
   "source": [
    "# word -> vector & padding\n",
    "train_questions_vec = get_vec_and_pad(train_questions, word_dict, config.max_length)\n",
    "valid_questions_vec = get_vec_and_pad(valid_questions, word_dict, config.max_length)\n",
    "test_questions_vec = get_vec_and_pad(test_questions, word_dict, config.max_length)\n",
    "\n",
    "train_answers_vec = get_vec_and_pad(train_answers, word_dict, 1)\n",
    "valid_answers_vec = get_vec_and_pad(valid_answers, word_dict, 1)\n",
    "test_answers_vec = get_vec_and_pad(test_answers, word_dict, 1)\n"
   ]
  },
  {
   "cell_type": "markdown",
   "metadata": {},
   "source": [
    "### 1.5 生成MindRecord"
   ]
  },
  {
   "cell_type": "code",
   "execution_count": 13,
   "metadata": {},
   "outputs": [
    {
     "name": "stdout",
     "output_type": "stream",
     "text": [
      "train\n",
      "valid\n",
      "test\n"
     ]
    }
   ],
   "source": [
    "generate_mindrecord(config.train_mindrecord_path, config.num_splits, train_images, train_questions_vec, train_answers_vec)\n",
    "generate_mindrecord(config.valid_mindrecord_path, config.num_splits, valid_images, valid_questions_vec, valid_answers_vec)\n",
    "generate_mindrecord(config.test_mindrecord_path,  config.num_splits, test_images,  test_questions_vec, test_answers_vec)"
   ]
  },
  {
   "cell_type": "markdown",
   "metadata": {},
   "source": [
    "## 2 加载数据"
   ]
  },
  {
   "cell_type": "markdown",
   "metadata": {},
   "source": [
    "### 2.1 加载词典"
   ]
  },
  {
   "cell_type": "code",
   "execution_count": null,
   "metadata": {},
   "outputs": [],
   "source": [
    "# load dict\n",
    "word_dict = np.load(config.dict_path, allow_pickle=True).item()\n",
    "idx_word_dict = np.load(config.idx_word_dict_path, allow_pickle=True).item()"
   ]
  },
  {
   "cell_type": "markdown",
   "metadata": {},
   "source": [
    "### 2.2 训练配置"
   ]
  },
  {
   "cell_type": "code",
   "execution_count": 14,
   "metadata": {},
   "outputs": [],
   "source": [
    "train_config = EasyDict({\n",
    "\t'batch_size': 32,\n",
    "\t'epoch_size': 20\n",
    "})"
   ]
  },
  {
   "cell_type": "markdown",
   "metadata": {},
   "source": [
    "### 2.3 生成数据集"
   ]
  },
  {
   "cell_type": "code",
   "execution_count": 15,
   "metadata": {},
   "outputs": [],
   "source": [
    "# create dataset\n",
    "train_dataset = generate_dataset(config.train_mindrecord_path, train_config.batch_size, train_config.epoch_size)\n",
    "valid_dataset = generate_dataset(config.valid_mindrecord_path, train_config.batch_size, train_config.epoch_size)\n",
    "test_dataset  = generate_dataset(config.test_mindrecord_path, train_config.batch_size, 1)"
   ]
  }
 ],
 "metadata": {
  "interpreter": {
   "hash": "7706af514ca5595ae02ecaa843a04524cbe2f0d2c6a2cf9879db08d9bbecc0b5"
  },
  "kernelspec": {
   "display_name": "Python 3.7.5 64-bit",
   "language": "python",
   "name": "python3"
  },
  "language_info": {
   "codemirror_mode": {
    "name": "ipython",
    "version": 3
   },
   "file_extension": ".py",
   "mimetype": "text/x-python",
   "name": "python",
   "nbconvert_exporter": "python",
   "pygments_lexer": "ipython3",
   "version": "3.7.5"
  },
  "orig_nbformat": 4
 },
 "nbformat": 4,
 "nbformat_minor": 2
}
