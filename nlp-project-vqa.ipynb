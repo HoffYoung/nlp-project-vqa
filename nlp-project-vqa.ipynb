{
 "cells": [
  {
   "cell_type": "markdown",
   "metadata": {},
   "source": [
    "# nlp-project-vqa\n"
   ]
  },
  {
   "cell_type": "code",
   "execution_count": 1,
   "metadata": {},
   "outputs": [],
   "source": [
    "import mindspore\n",
    "import numpy as np\n",
    "from easydict import EasyDict\n",
    "from preprocess.preprocess import *"
   ]
  },
  {
   "cell_type": "code",
   "execution_count": null,
   "metadata": {},
   "outputs": [],
   "source": [
    "import moxing as mox\n",
    "# 请替换成自己的obs路径\n",
    "mox.file.copy_parallel(src_url=\"s3://nlp-haofeng/nlp_project_vqa\", dst_url='./') "
   ]
  },
  {
   "cell_type": "code",
   "execution_count": 2,
   "metadata": {},
   "outputs": [],
   "source": [
    "from mindspore import context\n",
    "context.set_context(mode=context.GRAPH_MODE)"
   ]
  },
  {
   "cell_type": "markdown",
   "metadata": {},
   "source": [
    "## 1 预处理"
   ]
  },
  {
   "cell_type": "markdown",
   "metadata": {},
   "source": [
    "### 1.1 预处理配置"
   ]
  },
  {
   "cell_type": "code",
   "execution_count": 3,
   "metadata": {},
   "outputs": [],
   "source": [
    "padding = '<pad>'\n",
    "config = EasyDict({\n",
    "\t'train_ans_path': './data/annotations/train.json',\n",
    "\t'train_que_path': './data/questions/train.json',\n",
    "\t'valid_ans_path': './data/annotations/val.json',\n",
    "\t'valid_que_path': './data/questions/val.json',\n",
    "\t'test_ans_path':  './data/annotations/test.json',\n",
    "\t'test_que_path':  './data/questions/test.json',\n",
    "\t'train_img_path': './data/images/train/COCO_train2014_',\n",
    "\t'test_img_path': './data/images/test/COCO_val2014_',\n",
    "\t'val_img_path': './data/images/val/COCO_val2014_',\n",
    "\t'max_length': 25,\n",
    "\t'dict_path': './mindrecord/dict.npy',\n",
    "\t'idx_word_dict_path': './mindrecord/idx_word_dict.npy',\n",
    "\t'num_splits': 1,\n",
    "\t'train_mindrecord_path': './mindrecord/train.mindrecord',\n",
    "\t'valid_mindrecord_path': './mindrecord/valid.mindrecord',\n",
    "\t'test_mindrecord_path':  './mindrecord/test.mindrecord',\n",
    "})"
   ]
  },
  {
   "cell_type": "markdown",
   "metadata": {},
   "source": [
    "### 1.2 读取数据"
   ]
  },
  {
   "cell_type": "markdown",
   "metadata": {},
   "source": [
    "注: 只取那些答案长度为1的vqa组合"
   ]
  },
  {
   "cell_type": "code",
   "execution_count": 4,
   "metadata": {},
   "outputs": [],
   "source": [
    "# get 3 types of input data\n",
    "train_images, train_questions, train_answers = get_list(config.train_que_path, config.train_ans_path)\n",
    "valid_images, valid_questions, valid_answers = get_list(config.valid_que_path, config.valid_ans_path)\n",
    "test_images,  test_questions,  test_answers  = get_list(config.test_que_path,  config.test_ans_path)"
   ]
  },
  {
   "cell_type": "code",
   "execution_count": 5,
   "metadata": {},
   "outputs": [],
   "source": [
    "total_questions = train_questions + valid_questions + test_questions\n",
    "total_answers = train_answers + valid_answers + test_answers"
   ]
  },
  {
   "cell_type": "markdown",
   "metadata": {},
   "source": [
    "### 1.3 构建词典"
   ]
  },
  {
   "cell_type": "code",
   "execution_count": 6,
   "metadata": {},
   "outputs": [],
   "source": [
    "# build word vocab\n",
    "word_dict = dict({'<pad>': 0})\n",
    "word_dict = add_word_into_dict(total_questions, word_dict)\n",
    "word_dict = add_word_into_dict(total_answers, word_dict)"
   ]
  },
  {
   "cell_type": "code",
   "execution_count": 7,
   "metadata": {},
   "outputs": [],
   "source": [
    "# build revert dict\n",
    "idx_word_dict = dict()\n",
    "for item in word_dict.items():\n",
    "\tidx_word_dict[item[1]] = item[0]"
   ]
  },
  {
   "cell_type": "code",
   "execution_count": 8,
   "metadata": {},
   "outputs": [],
   "source": [
    "# save dict\n",
    "np.save(config.dict_path, word_dict)\n",
    "np.save(config.idx_word_dict_path, idx_word_dict)"
   ]
  },
  {
   "cell_type": "markdown",
   "metadata": {},
   "source": [
    "### 1.4 向量化 & 补齐长度"
   ]
  },
  {
   "cell_type": "code",
   "execution_count": 9,
   "metadata": {},
   "outputs": [],
   "source": [
    "# word -> vector & padding\n",
    "train_questions_vec = get_vec_and_pad(train_questions, word_dict, config.max_length)\n",
    "valid_questions_vec = get_vec_and_pad(valid_questions, word_dict, config.max_length)\n",
    "test_questions_vec = get_vec_and_pad(test_questions, word_dict, config.max_length)\n",
    "\n",
    "train_answers_vec = get_vec_and_pad(train_answers, word_dict, 1)\n",
    "valid_answers_vec = get_vec_and_pad(valid_answers, word_dict, 1)\n",
    "test_answers_vec = get_vec_and_pad(test_answers, word_dict, 1)\n",
    "\n",
    "\n",
    "# train_images_list = read_image(train_images, config.train_img_path)\n",
    "# np.save('./mindrecord/train_images_list', train_images_list)\n",
    "\n",
    "# valid_images_list = read_image(valid_images, config.val_img_path)\n",
    "# np.save('./mindrecord/valid_images_list', valid_images_list)\n",
    "\n",
    "# test_images_list = read_image(test_images, config.test_img_path)\n",
    "# np.save('./mindrecord/test_images_list', test_images_list)\n",
    "train_images_list = train_images\n",
    "valid_images_list = valid_images\n",
    "test_images_list  = test_images"
   ]
  },
  {
   "cell_type": "markdown",
   "metadata": {},
   "source": [
    "### 1.5 生成MindRecord"
   ]
  },
  {
   "cell_type": "code",
   "execution_count": 10,
   "metadata": {},
   "outputs": [
    {
     "name": "stdout",
     "output_type": "stream",
     "text": [
      "train\n",
      "valid\n",
      "test\n"
     ]
    }
   ],
   "source": [
    "generate_mindrecord(config.train_mindrecord_path, config.num_splits, train_images_list, train_questions_vec, train_answers_vec)\n",
    "generate_mindrecord(config.valid_mindrecord_path, config.num_splits, valid_images_list, valid_questions_vec, valid_answers_vec)\n",
    "generate_mindrecord(config.test_mindrecord_path,  config.num_splits, test_images_list,  test_questions_vec, test_answers_vec)"
   ]
  },
  {
   "cell_type": "markdown",
   "metadata": {},
   "source": [
    "## 2 加载数据"
   ]
  },
  {
   "cell_type": "markdown",
   "metadata": {},
   "source": [
    "### 2.1 加载词典"
   ]
  },
  {
   "cell_type": "code",
   "execution_count": 11,
   "metadata": {},
   "outputs": [],
   "source": [
    "# load dict\n",
    "word_dict = np.load(config.dict_path, allow_pickle=True).item()\n",
    "idx_word_dict = np.load(config.idx_word_dict_path, allow_pickle=True).item()"
   ]
  },
  {
   "cell_type": "markdown",
   "metadata": {},
   "source": [
    "### 2.2 训练配置"
   ]
  },
  {
   "cell_type": "code",
   "execution_count": 12,
   "metadata": {},
   "outputs": [],
   "source": [
    "train_config = EasyDict({\n",
    "\t'model': 'baseline',\n",
    "\t'vocab_size': 10233,\n",
    "\t'batch_size': 128,\n",
    "\t'epoch_size': 10,\n",
    "\t'max_length': 25,\n",
    "\t'hidden_size': 1024,\n",
    "\t'lr': 1e-3,\n",
    "\t'momentum': 0.9,\n",
    "\t'epoch_size': 20,\n",
    "\t'early_stop': 100,\n",
    "\t# 'save_checkpoint_steps': 1279,\n",
    "\t'ckpt_save_path': './ckpt',\n",
    "\t'checkpoint_path': './ckpt/baseline',\n",
    "\t# 'keep_checkpoint_max': 2,\n",
    "})"
   ]
  },
  {
   "cell_type": "markdown",
   "metadata": {},
   "source": [
    "### 2.3 生成数据集"
   ]
  },
  {
   "cell_type": "code",
   "execution_count": 13,
   "metadata": {},
   "outputs": [],
   "source": [
    "# create dataset\n",
    "train_dataset = generate_dataset(config.train_mindrecord_path, train_config.batch_size, train_config.epoch_size)\n",
    "valid_dataset = generate_dataset(config.valid_mindrecord_path, train_config.batch_size, train_config.epoch_size)\n",
    "test_dataset  = generate_dataset(config.test_mindrecord_path, train_config.batch_size, 1)"
   ]
  },
  {
   "cell_type": "markdown",
   "metadata": {},
   "source": [
    "## 3 训练模型"
   ]
  },
  {
   "cell_type": "markdown",
   "metadata": {},
   "source": [
    "### 3.1 创建模型"
   ]
  },
  {
   "cell_type": "code",
   "execution_count": 14,
   "metadata": {},
   "outputs": [],
   "source": [
    "import mindspore.nn as nn\n",
    "import mindspore.ops.operations as P\n",
    "import mindspore.ops.functional as F\n",
    "from mindspore import dtype as mstype\n",
    "from mindspore import Tensor"
   ]
  },
  {
   "cell_type": "code",
   "execution_count": 15,
   "metadata": {},
   "outputs": [],
   "source": [
    "class Network(nn.Cell):\n",
    "\tdef __init__(self):\n",
    "\t\tsuper(Network, self).__init__()\n",
    "\t\tself.reshape = P.Reshape()\n",
    "\t\tself.embedding = nn.Embedding(train_config.vocab_size, train_config.hidden_size)\n",
    "\t\tself.out = nn.Dense(train_config.hidden_size*train_config.max_length, train_config.vocab_size)\n",
    "\tdef construct(self, x):\n",
    "\t\tx = self.embedding(x)\n",
    "\t\tx = x.reshape(x.shape[0], -1)\n",
    "\t\tx = self.out(x)\n",
    "\t\treturn x"
   ]
  },
  {
   "cell_type": "code",
   "execution_count": 16,
   "metadata": {},
   "outputs": [],
   "source": [
    "class NetworkWithLoss(nn.Cell):\n",
    "\tdef __init__(self, network):\n",
    "\t\tsuper(NetworkWithLoss, self).__init__()\n",
    "\t\tself.network = network\n",
    "\t\tself.loss = nn.SoftmaxCrossEntropyWithLogits(sparse=True)\n",
    "\t\tself.cast = P.Cast()\n",
    "\t\tself.reshape = P.Reshape()\n",
    "\tdef construct(self, images, questions, answers):\n",
    "\t\t# print(images.shape)\n",
    "\t\t# print(questions.shape)\n",
    "\t\t# print(answers.shape)\n",
    "\t\t#questions = Tensor(questions)\n",
    "\t\t#answers = self.reshape(answers, (-1,))\n",
    "\t\tout = self.network(questions)\n",
    "\t\t#print(out.shape)\n",
    "\t\tloss = self.loss(out, answers)\n",
    "\t\t#print(loss.shape)\n",
    "\t\treturn self.cast(loss, mstype.float32)\n"
   ]
  },
  {
   "cell_type": "markdown",
   "metadata": {},
   "source": [
    "### 3.2 回调显示"
   ]
  },
  {
   "cell_type": "code",
   "execution_count": 17,
   "metadata": {},
   "outputs": [],
   "source": [
    "from mindspore.train.callback import TimeMonitor\n",
    "time_callback = TimeMonitor(data_size=train_dataset.get_dataset_size())\n",
    "callbacks = [time_callback]"
   ]
  },
  {
   "cell_type": "code",
   "execution_count": 18,
   "metadata": {},
   "outputs": [],
   "source": [
    "from mindspore.train.serialization import save_checkpoint"
   ]
  },
  {
   "cell_type": "markdown",
   "metadata": {},
   "source": [
    "### 3.3 开始训练"
   ]
  },
  {
   "cell_type": "code",
   "execution_count": 19,
   "metadata": {},
   "outputs": [],
   "source": [
    "def train():\n",
    "\t# 创建文件夹\n",
    "\tif not os.path.exists(train_config.ckpt_save_path):\n",
    "\t\tos.mkdir(train_config.ckpt_save_path)\n",
    "\t\n",
    "\t# TODO:创建网络\n",
    "\tnetwork = Network()\n",
    "\tnetwork = NetworkWithLoss(network)\n",
    "\toptimizer = nn.Adam(network.trainable_params(), learning_rate=train_config.lr, beta1=0.9, beta2=0.98)\n",
    "\tmodel = mindspore.Model(network, optimizer=optimizer, eval_network=network, metrics={\"acc\": nn.Accuracy(), \"loss\": nn.Loss()})\n",
    "\t\n",
    "\t# 训练，保留最好模型\n",
    "\tvalid_acc_max = 0.0\n",
    "\tvalid_loss_min = np.inf\n",
    "\tfor epoch in range(train_config.epoch_size):\n",
    "\t\tprint(\"train: \", end='')\n",
    "\t\ttrain_res = model.train(1, train_dataset, callbacks, dataset_sink_mode=True)\n",
    "\t\ttrain_loss = train_res['loss'].asnumpy()\n",
    "\t\ttrain_acc = train_res['acc'].asnumpy()\n",
    "\t\tprint(\"valid: \", end='')\n",
    "\t\tvalid_res = model.eval(valid_dataset, callbacks, dataset_sink_mode=True)\n",
    "\t\tvalid_loss = valid_res['loss'].asnumpy()\n",
    "\t\tvalid_acc = valid_res['acc'].asnumpy()\n",
    "\t\tprint(\"epoch:{}, train loss={:.5f}, acc={:.5f} | valid loss={:.5f}, acc={:.5f}\".format(\n",
    "               epoch, train_loss, train_acc, valid_loss, valid_acc))\n",
    "\t\t\n",
    "\t\tif valid_acc >= valid_acc_max or valid_loss < valid_loss_min:\n",
    "\t\t\tif valid_acc >= valid_acc_max and valid_loss < valid_loss_min:\n",
    "\t\t\t\tvalid_acc_model = valid_acc\n",
    "\t\t\t\tvalid_loss_model = valid_loss_model\n",
    "\t\t\t\tsave_checkpoint(model.network, train_config.checkpoint_path)\n",
    "\t\t\tvalid_acc_max = np.max((valid_acc_max, valid_acc))\n",
    "\t\t\tvalid_loss_min = np.min((valid_loss_min, valid_loss))\n",
    "\t\t\tcurrent_step = 0\n",
    "\t\telse:\n",
    "\t\t\tcurrent_step += 1\n",
    "\t\t\tif current_step == train_config.early_stop:\n",
    "\t\t\t\tprint(\"early stop... min loss: {}, max acc: {}\".format(valid_loss_min, valid_acc_max), end='')\n",
    "\t\t\t\tprint(\"; validation model loss: {}, acc: {}\".format(valid_loss_model, valid_acc_model))\n",
    "\t\t\t\tbreak\n"
   ]
  },
  {
   "cell_type": "code",
   "execution_count": 20,
   "metadata": {},
   "outputs": [
    {
     "name": "stderr",
     "output_type": "stream",
     "text": [
      "[WARNING] ME(47152:24248,MainProcess):2022-05-28-01:10:57.558.708 [mindspore\\train\\model.py:536] The CPU cannot support dataset sink mode currently.So the training process will be performed with dataset not sink.\n"
     ]
    },
    {
     "name": "stdout",
     "output_type": "stream",
     "text": [
      "train: "
     ]
    }
   ],
   "source": [
    "train()"
   ]
  },
  {
   "cell_type": "markdown",
   "metadata": {},
   "source": [
    "## 4 测试模型"
   ]
  },
  {
   "cell_type": "markdown",
   "metadata": {},
   "source": [
    "### 4.1 创建测试模型"
   ]
  },
  {
   "cell_type": "code",
   "execution_count": null,
   "metadata": {},
   "outputs": [],
   "source": [
    "from mindspore.train.serialization import load_checkpoint"
   ]
  },
  {
   "cell_type": "code",
   "execution_count": null,
   "metadata": {},
   "outputs": [],
   "source": [
    "def test():\n",
    "\t# TODO: 创建测试模型\n",
    "\tnetwork = None\n",
    "\tload_checkpoint(train_config.checkpoint_path, net=network)\n",
    "\tnetwork = NetworkWithLoss(network)\n",
    "\tmodel = mindspore.Model(network, metrics={'acc': nn.Accuracy(), 'loss': nn.Loss()})\n",
    "\t# 生成结果\n",
    "\ttest_res = model.eval(test_dataset)\n",
    "    \n",
    "\tprint(\"test loss={}, acc={}\".format(test_res['loss'].asnumpy(), test_res['acc'].asnumpy()))"
   ]
  },
  {
   "cell_type": "markdown",
   "metadata": {},
   "source": [
    "### 4.2 开始测试"
   ]
  },
  {
   "cell_type": "code",
   "execution_count": null,
   "metadata": {},
   "outputs": [],
   "source": [
    "test()"
   ]
  }
 ],
 "metadata": {
  "interpreter": {
   "hash": "7706af514ca5595ae02ecaa843a04524cbe2f0d2c6a2cf9879db08d9bbecc0b5"
  },
  "kernelspec": {
   "display_name": "Python 3.7.5 64-bit",
   "language": "python",
   "name": "python3"
  },
  "language_info": {
   "codemirror_mode": {
    "name": "ipython",
    "version": 3
   },
   "file_extension": ".py",
   "mimetype": "text/x-python",
   "name": "python",
   "nbconvert_exporter": "python",
   "pygments_lexer": "ipython3",
   "version": "3.7.5"
  },
  "orig_nbformat": 4
 },
 "nbformat": 4,
 "nbformat_minor": 2
}
